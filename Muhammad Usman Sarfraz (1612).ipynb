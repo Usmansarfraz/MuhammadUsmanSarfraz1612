{
 "cells": [
  {
   "cell_type": "code",
   "execution_count": 3,
   "metadata": {},
   "outputs": [
    {
     "name": "stdout",
     "output_type": "stream",
     "text": [
      "15\n"
     ]
    }
   ],
   "source": [
    "#02\n",
    "a=5;\n",
    "b=10;\n",
    "c=a+b;\n",
    "print(c);"
   ]
  },
  {
   "cell_type": "code",
   "execution_count": 5,
   "metadata": {},
   "outputs": [
    {
     "name": "stdout",
     "output_type": "stream",
     "text": [
      "Ali Mughal\n"
     ]
    }
   ],
   "source": [
    "#03\n",
    "x=\"Ali\"\n",
    "y=\" Mughal\"\n",
    "z=x+y;\n",
    "print(z);"
   ]
  },
  {
   "cell_type": "code",
   "execution_count": 8,
   "metadata": {},
   "outputs": [
    {
     "name": "stdout",
     "output_type": "stream",
     "text": [
      "48\n"
     ]
    }
   ],
   "source": [
    "#04\n",
    "f=\"4\";\n",
    "g=\"8\";\n",
    "h=f+g;\n",
    "print(h);"
   ]
  },
  {
   "cell_type": "code",
   "execution_count": 9,
   "metadata": {},
   "outputs": [
    {
     "ename": "TypeError",
     "evalue": "can only concatenate str (not \"int\") to str",
     "output_type": "error",
     "traceback": [
      "\u001b[1;31m---------------------------------------------------------------------------\u001b[0m",
      "\u001b[1;31mTypeError\u001b[0m                                 Traceback (most recent call last)",
      "\u001b[1;32m<ipython-input-9-838606e66ba7>\u001b[0m in \u001b[0;36m<module>\u001b[1;34m\u001b[0m\n\u001b[0;32m      2\u001b[0m \u001b[0ma\u001b[0m\u001b[1;33m=\u001b[0m\u001b[1;34m\"10\"\u001b[0m\u001b[1;33m;\u001b[0m\u001b[1;33m\u001b[0m\u001b[1;33m\u001b[0m\u001b[0m\n\u001b[0;32m      3\u001b[0m \u001b[0mb\u001b[0m\u001b[1;33m=\u001b[0m\u001b[1;36m20\u001b[0m\u001b[1;33m;\u001b[0m\u001b[1;33m\u001b[0m\u001b[1;33m\u001b[0m\u001b[0m\n\u001b[1;32m----> 4\u001b[1;33m \u001b[0mc\u001b[0m\u001b[1;33m=\u001b[0m\u001b[0ma\u001b[0m\u001b[1;33m+\u001b[0m\u001b[0mb\u001b[0m\u001b[1;33m;\u001b[0m\u001b[1;33m\u001b[0m\u001b[1;33m\u001b[0m\u001b[0m\n\u001b[0m\u001b[0;32m      5\u001b[0m \u001b[0mprint\u001b[0m\u001b[1;33m(\u001b[0m\u001b[0mc\u001b[0m\u001b[1;33m)\u001b[0m\u001b[1;33m;\u001b[0m\u001b[1;33m\u001b[0m\u001b[1;33m\u001b[0m\u001b[0m\n",
      "\u001b[1;31mTypeError\u001b[0m: can only concatenate str (not \"int\") to str"
     ]
    }
   ],
   "source": [
    "#05\n",
    "a=\"10\";\n",
    "b=20;\n",
    "c=a+b;\n",
    "print(c);"
   ]
  },
  {
   "cell_type": "code",
   "execution_count": 11,
   "metadata": {},
   "outputs": [
    {
     "name": "stdout",
     "output_type": "stream",
     "text": [
      "8\n"
     ]
    }
   ],
   "source": [
    "#06\n",
    "x=8;\n",
    "y=x+7;\n",
    "z=y-x+1;\n",
    "print(z);"
   ]
  },
  {
   "cell_type": "code",
   "execution_count": 12,
   "metadata": {},
   "outputs": [
    {
     "name": "stdout",
     "output_type": "stream",
     "text": [
      "55.0\n"
     ]
    }
   ],
   "source": [
    "#07\n",
    "a=12-4/2+9*5\n",
    "print(a);"
   ]
  },
  {
   "cell_type": "code",
   "execution_count": 13,
   "metadata": {},
   "outputs": [
    {
     "name": "stdout",
     "output_type": "stream",
     "text": [
      "3.6363636363636367\n"
     ]
    }
   ],
   "source": [
    "#08\n",
    "a=((12-4)/(2+9)*5);\n",
    "print(a);"
   ]
  },
  {
   "cell_type": "code",
   "execution_count": 14,
   "metadata": {},
   "outputs": [
    {
     "name": "stdout",
     "output_type": "stream",
     "text": [
      "1\n"
     ]
    }
   ],
   "source": [
    "#09\n",
    "x=10;\n",
    "y=x%3;\n",
    "print(y);"
   ]
  },
  {
   "cell_type": "code",
   "execution_count": 15,
   "metadata": {},
   "outputs": [
    {
     "name": "stdout",
     "output_type": "stream",
     "text": [
      "12\n"
     ]
    }
   ],
   "source": [
    "#10\n",
    "f=10;\n",
    "f=+12;\n",
    "print(f);"
   ]
  },
  {
   "cell_type": "code",
   "execution_count": 16,
   "metadata": {},
   "outputs": [
    {
     "name": "stdout",
     "output_type": "stream",
     "text": [
      "7\n"
     ]
    }
   ],
   "source": [
    "#11\n",
    "g=5;\n",
    "g=g+2;\n",
    "print(g);"
   ]
  },
  {
   "cell_type": "code",
   "execution_count": 17,
   "metadata": {},
   "outputs": [
    {
     "name": "stdout",
     "output_type": "stream",
     "text": [
      "6\n"
     ]
    }
   ],
   "source": [
    "#12\n",
    "a=3;\n",
    "a+=3;\n",
    "print(a);"
   ]
  },
  {
   "cell_type": "code",
   "execution_count": 18,
   "metadata": {},
   "outputs": [
    {
     "name": "stdout",
     "output_type": "stream",
     "text": [
      "6\n"
     ]
    }
   ],
   "source": [
    "#13\n",
    "a=3;\n",
    "a=a+3;\n",
    "print(a);"
   ]
  },
  {
   "cell_type": "code",
   "execution_count": 20,
   "metadata": {},
   "outputs": [
    {
     "name": "stdout",
     "output_type": "stream",
     "text": [
      "My name is Muhammad Ali Mughal\n"
     ]
    }
   ],
   "source": [
    "#14\n",
    "a=\" Muhammad Ali Mughal\"\n",
    "print(\"My name is\" +a);"
   ]
  },
  {
   "cell_type": "code",
   "execution_count": 21,
   "metadata": {},
   "outputs": [
    {
     "name": "stdout",
     "output_type": "stream",
     "text": [
      "Allow to ride\n"
     ]
    }
   ],
   "source": [
    "#15\n",
    "gender=\"male\"\n",
    "if gender==\"male\":\n",
    "    print(\"Allow to ride\")"
   ]
  },
  {
   "cell_type": "code",
   "execution_count": 22,
   "metadata": {},
   "outputs": [
    {
     "name": "stdout",
     "output_type": "stream",
     "text": [
      "Rock lo\n"
     ]
    }
   ],
   "source": [
    "#16 \n",
    "gender=\"female\"\n",
    "if gender==\"male\":\n",
    "    print(\"Allow to ride\");\n",
    "else:\n",
    "    print(\"Rock lo\");"
   ]
  },
  {
   "cell_type": "code",
   "execution_count": 23,
   "metadata": {},
   "outputs": [
    {
     "name": "stdout",
     "output_type": "stream",
     "text": [
      "allow to ride\n"
     ]
    }
   ],
   "source": [
    "#17\n",
    "gender=\"female\"\n",
    "if gender!=\"male\":\n",
    "    print(\"allow to ride\");\n",
    "else:\n",
    "    print (\"Rock lo\");"
   ]
  },
  {
   "cell_type": "code",
   "execution_count": 25,
   "metadata": {},
   "outputs": [
    {
     "name": "stdout",
     "output_type": "stream",
     "text": [
      "Rock lo\n"
     ]
    }
   ],
   "source": [
    "#18\n",
    "age=14;\n",
    "gender=\"female\";\n",
    "if age> 18 or gender==\"male\":\n",
    "    print(\"Allow to ride\");\n",
    "else:\n",
    "    print (\"Rock lo\");"
   ]
  },
  {
   "cell_type": "code",
   "execution_count": 27,
   "metadata": {},
   "outputs": [
    {
     "name": "stdout",
     "output_type": "stream",
     "text": [
      "Allow to ride\n"
     ]
    }
   ],
   "source": [
    "age=18;\n",
    "gender=\"male\";\n",
    "if age> 18 or gender==\"male\":\n",
    "    print(\"Allow to ride\");\n",
    "else:\n",
    "    print (\"Rock lo\");"
   ]
  },
  {
   "cell_type": "code",
   "execution_count": 30,
   "metadata": {},
   "outputs": [
    {
     "name": "stdout",
     "output_type": "stream",
     "text": [
      "Allow to Ride\n"
     ]
    }
   ],
   "source": [
    "#19\n",
    "age=14\n",
    "gender=\"female\"\n",
    "if age > 10 or gender ==\"male\":\n",
    "    print(\"Allow to Ride\");\n",
    "else:\n",
    "    print (\"Rocl lo\");"
   ]
  },
  {
   "cell_type": "code",
   "execution_count": 34,
   "metadata": {},
   "outputs": [
    {
     "name": "stdout",
     "output_type": "stream",
     "text": [
      "Allow to Ride\n"
     ]
    }
   ],
   "source": [
    "age=5;\n",
    "gender=\"male\"\n",
    "if age > 10 or gender ==\"male\":\n",
    "    print(\"Allow to Ride\");\n",
    "else:\n",
    "    print (\"Rocl lo\");"
   ]
  },
  {
   "cell_type": "code",
   "execution_count": 36,
   "metadata": {},
   "outputs": [
    {
     "name": "stdout",
     "output_type": "stream",
     "text": [
      "Rocl lo\n"
     ]
    }
   ],
   "source": [
    "age=5;\n",
    "gender=\"female\"\n",
    "if age > 10 or gender ==\"male\":\n",
    "    print(\"Allow to Ride\");\n",
    "else:\n",
    "    print (\"Rocl lo\");"
   ]
  },
  {
   "cell_type": "code",
   "execution_count": 3,
   "metadata": {},
   "outputs": [
    {
     "name": "stdout",
     "output_type": "stream",
     "text": [
      "Enter Marks of English marks45\n",
      "Enter Marks of Physics marks35\n",
      "Enter Marks of Maths marks65\n",
      "Enter Marks of Chemistry marks95\n",
      "Enter Marks of Islamiat marks75\n",
      "Enter Marks of Botony marks65\n",
      "Enter Marks of Zoology marks45\n",
      "60.71428571428571\n",
      "Grade B\n"
     ]
    }
   ],
   "source": [
    "#20 Marksheet\n",
    "English =int(input(\"Enter Marks of English marks\"));\n",
    "Physics =int(input(\"Enter Marks of Physics marks\"));\n",
    "Maths =int(input(\"Enter Marks of Maths marks\"));\n",
    "Chemistry =int(input(\"Enter Marks of Chemistry marks\"));\n",
    "Islamiat =int(input(\"Enter Marks of Islamiat marks\"));\n",
    "Botony =int(input(\"Enter Marks of Botony marks\"));\n",
    "Zoology =int(input(\"Enter Marks of Zoology marks\"));\n",
    "total=English+Physics+Maths+Chemistry+Islamiat+Botony+Zoology\n",
    "percent =total/700*100\n",
    "print (percent);\n",
    "if percent <100 and percent >90:\n",
    "    print(\"Grade A+\");\n",
    "elif percent <90 and percent >80:\n",
    "    print(\"Grade A\");\n",
    "elif percent < 80 and percent >70:\n",
    "    print (\"Grade B+\");\n",
    "elif percent <70 and percent >60:\n",
    "    print (\"Grade B\");\n",
    "elif percent <60 and percent >50:\n",
    "    print (\"Grade C\");\n",
    "elif percent <50 and percent >40:\n",
    "    print (\"Grade D\");\n",
    "elif percent <40 and percent >30:\n",
    "    print (\"Grade E\");\n",
    "elif percent <0 or percent >100:\n",
    "    print (\"condition not match\");\n",
    "else:\n",
    "    print (\"Fail\");\n",
    "    "
   ]
  },
  {
   "cell_type": "code",
   "execution_count": 4,
   "metadata": {},
   "outputs": [
    {
     "name": "stdout",
     "output_type": "stream",
     "text": [
      "Enter any number10\n",
      "35\n"
     ]
    }
   ],
   "source": [
    "#class no (02)\n",
    "#01\n",
    "x= int(input(\"Enter any number\"));\n",
    "y=25;\n",
    "z= x+y;\n",
    "print (z);"
   ]
  },
  {
   "cell_type": "code",
   "execution_count": 8,
   "metadata": {},
   "outputs": [
    {
     "name": "stdout",
     "output_type": "stream",
     "text": [
      "Enter any number10\n",
      "35\n"
     ]
    }
   ],
   "source": [
    "#02\n",
    "x=input(\"Enter any number\");\n",
    "y=25;\n",
    "z=int(x)+y\n",
    "print(z);"
   ]
  },
  {
   "cell_type": "code",
   "execution_count": 7,
   "metadata": {},
   "outputs": [
    {
     "name": "stdout",
     "output_type": "stream",
     "text": [
      "9\n"
     ]
    }
   ],
   "source": [
    "#03\n",
    "x=3**2\n",
    "print(x);"
   ]
  },
  {
   "cell_type": "code",
   "execution_count": 9,
   "metadata": {},
   "outputs": [
    {
     "name": "stdout",
     "output_type": "stream",
     "text": [
      "81\n"
     ]
    }
   ],
   "source": [
    "#04\n",
    "y=3**4\n",
    "print(y);"
   ]
  },
  {
   "cell_type": "code",
   "execution_count": 13,
   "metadata": {},
   "outputs": [
    {
     "name": "stdout",
     "output_type": "stream",
     "text": [
      "Hellow \n",
      " World\n"
     ]
    }
   ],
   "source": [
    "#04\n",
    "print(\"Hellow \\n World\");"
   ]
  },
  {
   "cell_type": "code",
   "execution_count": 12,
   "metadata": {},
   "outputs": [
    {
     "name": "stdout",
     "output_type": "stream",
     "text": [
      "Hellow\n",
      "World\n"
     ]
    }
   ],
   "source": [
    "print(\"Hellow\\nWorld\");"
   ]
  },
  {
   "cell_type": "code",
   "execution_count": 14,
   "metadata": {},
   "outputs": [
    {
     "name": "stdout",
     "output_type": "stream",
     "text": [
      "True\n"
     ]
    }
   ],
   "source": [
    "#04\n",
    "x=10;\n",
    "y=12;\n",
    "a=30;\n",
    "b=8;\n",
    "if x+y == a-b:\n",
    "    print (True);\n",
    "else:\n",
    "    print(False);"
   ]
  },
  {
   "cell_type": "code",
   "execution_count": 1,
   "metadata": {},
   "outputs": [
    {
     "name": "stdout",
     "output_type": "stream",
     "text": [
      "enter age18\n",
      "enter gendermale\n",
      "Don't Allow\n"
     ]
    }
   ],
   "source": [
    "#05\n",
    "age=int(input(\"enter age\"));\n",
    "gender =input(\"enter gender\");\n",
    "if age >18 and gender ==\"male\":\n",
    "    print (\"Allow\");\n",
    "else:\n",
    "    print(\"Don't Allow\")"
   ]
  },
  {
   "cell_type": "code",
   "execution_count": 2,
   "metadata": {},
   "outputs": [
    {
     "name": "stdout",
     "output_type": "stream",
     "text": [
      "enter age18\n",
      "enter gendermale\n",
      "Allow\n"
     ]
    }
   ],
   "source": [
    "age=int(input(\"enter age\"));\n",
    "gender =input(\"enter gender\");\n",
    "if age >=18 and gender ==\"male\":\n",
    "    print (\"Allow\");\n",
    "else:\n",
    "    print(\"Don't Allow\")"
   ]
  },
  {
   "cell_type": "code",
   "execution_count": 3,
   "metadata": {},
   "outputs": [
    {
     "name": "stdout",
     "output_type": "stream",
     "text": [
      "enter age18\n",
      "enter gendermale\n",
      "Allow\n"
     ]
    }
   ],
   "source": [
    "age=int(input(\"enter age\"));\n",
    "gender =input(\"enter gender\");\n",
    "if age >18 or gender ==\"male\":\n",
    "    print (\"Allow\");\n",
    "else:\n",
    "    print(\"Don't Allow\")"
   ]
  },
  {
   "cell_type": "code",
   "execution_count": 4,
   "metadata": {},
   "outputs": [
    {
     "name": "stdout",
     "output_type": "stream",
     "text": [
      "[112, 6]\n"
     ]
    }
   ],
   "source": [
    "#06 Learning List\n",
    "arr =[112,6];\n",
    "print(arr)"
   ]
  },
  {
   "cell_type": "code",
   "execution_count": 7,
   "metadata": {},
   "outputs": [
    {
     "name": "stdout",
     "output_type": "stream",
     "text": [
      "hellow world\n"
     ]
    }
   ],
   "source": [
    "#07 and other formate of comment\n",
    "\"\"\"we are learning python learning list now\"\"\"\n",
    "print(\"hellow world\");"
   ]
  },
  {
   "cell_type": "code",
   "execution_count": 12,
   "metadata": {},
   "outputs": [
    {
     "name": "stdout",
     "output_type": "stream",
     "text": [
      "zulqi,Rani,Ehsan,Samina,Bilal,Annad\n"
     ]
    }
   ],
   "source": [
    "#08\n",
    "name1=\"zulqi\";\n",
    "name2=\"Rani\";\n",
    "name3=\"Ehsan\";\n",
    "name4=\"Samina\";\n",
    "name5=\"Bilal\";\n",
    "name6=\"Annad\";\n",
    "print (name1+\",\"+name2+\",\"+name3+\",\"+name4+\",\"+name5+\",\"+name6)"
   ]
  },
  {
   "cell_type": "code",
   "execution_count": 2,
   "metadata": {},
   "outputs": [
    {
     "name": "stdout",
     "output_type": "stream",
     "text": [
      "['zulqi', 'Rani', 'Ehsan', 'Samina', 'Bilal', 'Annad']\n"
     ]
    }
   ],
   "source": [
    "#09\n",
    "#List\n",
    "name = [\"zulqi\",\"Rani\",\"Ehsan\",\"Samina\",\"Bilal\",\"Annad\"];\n",
    "print(name);print(name);"
   ]
  },
  {
   "cell_type": "markdown",
   "metadata": {},
   "source": [
    "print(name[0]);"
   ]
  },
  {
   "cell_type": "code",
   "execution_count": 1,
   "metadata": {},
   "outputs": [
    {
     "ename": "NameError",
     "evalue": "name 'name' is not defined",
     "output_type": "error",
     "traceback": [
      "\u001b[1;31m---------------------------------------------------------------------------\u001b[0m",
      "\u001b[1;31mNameError\u001b[0m                                 Traceback (most recent call last)",
      "\u001b[1;32m<ipython-input-1-70a675a6f3aa>\u001b[0m in \u001b[0;36m<module>\u001b[1;34m\u001b[0m\n\u001b[1;32m----> 1\u001b[1;33m \u001b[0mprint\u001b[0m\u001b[1;33m(\u001b[0m\u001b[0mname\u001b[0m\u001b[1;33m[\u001b[0m\u001b[1;36m0\u001b[0m\u001b[1;33m]\u001b[0m\u001b[1;33m)\u001b[0m\u001b[1;33m;\u001b[0m\u001b[1;33m\u001b[0m\u001b[1;33m\u001b[0m\u001b[0m\n\u001b[0m",
      "\u001b[1;31mNameError\u001b[0m: name 'name' is not defined"
     ]
    }
   ],
   "source": [
    "print(name[0]);"
   ]
  },
  {
   "cell_type": "code",
   "execution_count": 3,
   "metadata": {},
   "outputs": [
    {
     "name": "stdout",
     "output_type": "stream",
     "text": [
      "['zulqi', 'Rani', 'Ehsan', 'Samina', 'Bilal', 'Annad']\n"
     ]
    }
   ],
   "source": [
    "#09\n",
    "#List\n",
    "name = [\"zulqi\",\"Rani\",\"Ehsan\",\"Samina\",\"Bilal\",\"Annad\"];\n",
    "print(name);"
   ]
  },
  {
   "cell_type": "code",
   "execution_count": 4,
   "metadata": {},
   "outputs": [
    {
     "name": "stdout",
     "output_type": "stream",
     "text": [
      "zulqi\n"
     ]
    }
   ],
   "source": [
    "print(name[0]);"
   ]
  },
  {
   "cell_type": "code",
   "execution_count": 5,
   "metadata": {},
   "outputs": [
    {
     "name": "stdout",
     "output_type": "stream",
     "text": [
      "['zulqi', 'Ali', 'Ehsan', 'Samina', 'Bilal', 'Annad']\n"
     ]
    }
   ],
   "source": [
    "name[1]=\"Ali\";\n",
    "print (name);"
   ]
  },
  {
   "cell_type": "code",
   "execution_count": 6,
   "metadata": {},
   "outputs": [
    {
     "name": "stdout",
     "output_type": "stream",
     "text": [
      "['zulqi', 'Ali', 'Ehsan', 'Samina', 'Bilal', 'Annad', 'Ahmed']\n"
     ]
    }
   ],
   "source": [
    "name.append(\"Ahmed\");\n",
    "print(name);"
   ]
  },
  {
   "cell_type": "code",
   "execution_count": 7,
   "metadata": {},
   "outputs": [
    {
     "name": "stdout",
     "output_type": "stream",
     "text": [
      "['lion', 12, True, 5.69]\n"
     ]
    }
   ],
   "source": [
    "arr=[\"lion\",12,True,5.69]\n",
    "print(arr)"
   ]
  },
  {
   "cell_type": "code",
   "execution_count": 8,
   "metadata": {},
   "outputs": [
    {
     "data": {
      "text/plain": [
       "['zulqi', 'Ali', 'Ehsan', 'Samina', 'Bilal', 'Annad', 'Ahmed']"
      ]
     },
     "execution_count": 8,
     "metadata": {},
     "output_type": "execute_result"
    }
   ],
   "source": [
    "name"
   ]
  },
  {
   "cell_type": "code",
   "execution_count": 9,
   "metadata": {},
   "outputs": [
    {
     "name": "stdout",
     "output_type": "stream",
     "text": [
      "['zulqi', 'Ali', 'Ehsan', 'Samina', 'Bilal', 'Annad', 'Ahmed', 'lion', 12, True, 5.69]\n"
     ]
    }
   ],
   "source": [
    "newlist= name+arr;\n",
    "print(newlist);"
   ]
  },
  {
   "cell_type": "code",
   "execution_count": 10,
   "metadata": {},
   "outputs": [
    {
     "data": {
      "text/plain": [
       "['zulqi', 'Ali', 'Ehsan', 'Samina', 'Bilal', 'Annad', 'Ahmed']"
      ]
     },
     "execution_count": 10,
     "metadata": {},
     "output_type": "execute_result"
    }
   ],
   "source": [
    "name"
   ]
  },
  {
   "cell_type": "markdown",
   "metadata": {},
   "source": [
    "name=name.insert(3,\"Rashid\")"
   ]
  },
  {
   "cell_type": "markdown",
   "metadata": {},
   "source": []
  },
  {
   "cell_type": "code",
   "execution_count": 2,
   "metadata": {},
   "outputs": [
    {
     "ename": "NameError",
     "evalue": "name 'name' is not defined",
     "output_type": "error",
     "traceback": [
      "\u001b[1;31m---------------------------------------------------------------------------\u001b[0m",
      "\u001b[1;31mNameError\u001b[0m                                 Traceback (most recent call last)",
      "\u001b[1;32m<ipython-input-2-9bc0cb2ed6de>\u001b[0m in \u001b[0;36m<module>\u001b[1;34m\u001b[0m\n\u001b[1;32m----> 1\u001b[1;33m \u001b[0mname\u001b[0m\u001b[1;33m\u001b[0m\u001b[1;33m\u001b[0m\u001b[0m\n\u001b[0m",
      "\u001b[1;31mNameError\u001b[0m: name 'name' is not defined"
     ]
    }
   ],
   "source": [
    "name"
   ]
  },
  {
   "cell_type": "code",
   "execution_count": 3,
   "metadata": {},
   "outputs": [
    {
     "name": "stdout",
     "output_type": "stream",
     "text": [
      "['zulqi', 'Rani', 'Ehsan', 'Samina', 'Bilal', 'Annad']\n"
     ]
    }
   ],
   "source": [
    "name = [\"zulqi\",\"Rani\",\"Ehsan\",\"Samina\",\"Bilal\",\"Annad\"];\n",
    "print(name);"
   ]
  },
  {
   "cell_type": "code",
   "execution_count": 4,
   "metadata": {},
   "outputs": [
    {
     "data": {
      "text/plain": [
       "['zulqi', 'Rani', 'Ehsan', 'Samina', 'Bilal', 'Annad']"
      ]
     },
     "execution_count": 4,
     "metadata": {},
     "output_type": "execute_result"
    }
   ],
   "source": [
    "name"
   ]
  },
  {
   "cell_type": "code",
   "execution_count": 5,
   "metadata": {},
   "outputs": [
    {
     "name": "stdout",
     "output_type": "stream",
     "text": [
      "None\n"
     ]
    }
   ],
   "source": [
    "name=name.insert(3,\"Rashid\")\n",
    "print(name)"
   ]
  },
  {
   "cell_type": "code",
   "execution_count": 6,
   "metadata": {},
   "outputs": [],
   "source": [
    "name"
   ]
  },
  {
   "cell_type": "code",
   "execution_count": 1,
   "metadata": {},
   "outputs": [
    {
     "name": "stdout",
     "output_type": "stream",
     "text": [
      "['lion', 12, True, 5.69]\n"
     ]
    }
   ],
   "source": [
    "arr=[\"lion\",12,True,5.69]\n",
    "print(arr)"
   ]
  },
  {
   "cell_type": "code",
   "execution_count": 2,
   "metadata": {},
   "outputs": [
    {
     "name": "stdout",
     "output_type": "stream",
     "text": [
      "['lion', 12, 'Raza', True, 5.69]\n"
     ]
    }
   ],
   "source": [
    "arr.insert(2,\"Raza\")\n",
    "print(arr)"
   ]
  },
  {
   "cell_type": "code",
   "execution_count": null,
   "metadata": {},
   "outputs": [],
   "source": []
  }
 ],
 "metadata": {
  "kernelspec": {
   "display_name": "Python 3",
   "language": "python",
   "name": "python3"
  },
  "language_info": {
   "codemirror_mode": {
    "name": "ipython",
    "version": 3
   },
   "file_extension": ".py",
   "mimetype": "text/x-python",
   "name": "python",
   "nbconvert_exporter": "python",
   "pygments_lexer": "ipython3",
   "version": "3.7.6"
  }
 },
 "nbformat": 4,
 "nbformat_minor": 4
}
